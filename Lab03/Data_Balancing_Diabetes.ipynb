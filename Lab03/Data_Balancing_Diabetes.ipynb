{
 "cells": [
  {
   "cell_type": "markdown",
   "id": "4ae7d05c",
   "metadata": {},
   "source": [
    "O dataset com as alterações de encoding e isso é o da semana passada."
   ]
  },
  {
   "cell_type": "markdown",
   "id": "97ee23fc",
   "metadata": {},
   "source": [
    "## Sampling Techniques"
   ]
  },
  {
   "cell_type": "code",
   "execution_count": 1,
   "id": "a1971259",
   "metadata": {},
   "outputs": [],
   "source": [
    "import numpy as np\n",
    "import pandas as pd\n",
    "import matplotlib.pyplot as plt\n",
    "\n",
    "\n",
    "from pandas import Series, concat, DataFrame\n",
    "from imblearn.over_sampling import SMOTE\n",
    "RANDOM_STATE = 42"
   ]
  },
  {
   "cell_type": "code",
   "execution_count": 2,
   "id": "c2638a2d",
   "metadata": {},
   "outputs": [],
   "source": [
    "data_path='../datasets/Processed_Datasets/encoded_clean_diabetes.csv'\n",
    "data=pd.read_csv(data_path)\n",
    "\n",
    "class_var = 'readmitted'"
   ]
  },
  {
   "cell_type": "code",
   "execution_count": 3,
   "id": "33f3fccc",
   "metadata": {},
   "outputs": [
    {
     "data": {
      "text/plain": [
       "Index(['encounter_id', 'patient_nbr', 'admission_type_id',\n",
       "       'discharge_disposition_id', 'admission_source_id', 'time_in_hospital',\n",
       "       'num_lab_procedures', 'num_procedures', 'num_medications',\n",
       "       'number_outpatient', 'number_emergency', 'number_inpatient',\n",
       "       'number_diagnoses', 'readmitted', 'race', 'gender', 'age', 'diag_1',\n",
       "       'diag_2', 'diag_3', 'max_glu_serum', 'A1Cresult', 'metformin',\n",
       "       'repaglinide', 'nateglinide', 'chlorpropamide', 'glimepiride',\n",
       "       'glipizide', 'glyburide', 'pioglitazone', 'rosiglitazone', 'acarbose',\n",
       "       'miglitol', 'tolazamide', 'examide', 'citoglipton', 'insulin',\n",
       "       'glyburide-metformin', 'acetohexamide', 'tolbutamide', 'troglitazone',\n",
       "       'glipizide-metformin', 'glimepiride-pioglitazone',\n",
       "       'metformin-rosiglitazone', 'metformin-pioglitazone', 'change',\n",
       "       'diabetesMed'],\n",
       "      dtype='object')"
      ]
     },
     "execution_count": 3,
     "metadata": {},
     "output_type": "execute_result"
    }
   ],
   "source": [
    "data.columns"
   ]
  },
  {
   "cell_type": "code",
   "execution_count": 4,
   "id": "adcbb49b",
   "metadata": {},
   "outputs": [],
   "source": [
    "y=data[class_var]"
   ]
  },
  {
   "cell_type": "code",
   "execution_count": 5,
   "id": "f481c84f",
   "metadata": {},
   "outputs": [
    {
     "data": {
      "text/plain": [
       "Text(0.5, 1.0, 'Imbalanced Dataset')"
      ]
     },
     "execution_count": 5,
     "metadata": {},
     "output_type": "execute_result"
    },
    {
     "data": {
      "image/png": "[encoded data removed]",
      "text/plain": [
       "<Figure size 640x480 with 1 Axes>"
      ]
     },
     "metadata": {},
     "output_type": "display_data"
    }
   ],
   "source": [
    "fig=plt.figure()\n",
    "y.hist(bins=[0, 1, 2, 3], grid=False, edgecolor='C0', color='salmon')\n",
    "plt.title('Imbalanced Dataset')"
   ]
  },
  {
   "cell_type": "markdown",
   "id": "074b9078",
   "metadata": {},
   "source": [
    "# Descrição geral"
   ]
  },
  {
   "cell_type": "markdown",
   "id": "71cda5c4",
   "metadata": {},
   "source": [
    "Dado o Dataset não ser equilibrado, são testadas 3 técnicas distintas. Undersampling, Oversampling e SMOTE "
   ]
  },
  {
   "cell_type": "code",
   "execution_count": 6,
   "id": "1c8f73bb",
   "metadata": {},
   "outputs": [
    {
     "name": "stdout",
     "output_type": "stream",
     "text": [
      "Minority class= 2 : 11357\n",
      "Minority class= 1 : 35545\n",
      "Majority class= 0 : 54864\n"
     ]
    }
   ],
   "source": [
    "original=data.copy()\n",
    "\n",
    "target_count = original[class_var].value_counts()\n",
    "\n",
    "positive_class = target_count.idxmin()\n",
    "middle_class   = 1\n",
    "negative_class = target_count.idxmax()\n",
    "\n",
    "#ind_positive_class = target_count.index.get_loc(positive_class)\n",
    "print('Minority class=', positive_class, ':', target_count[positive_class])\n",
    "print('Minority class=', middle_class, ':', target_count[middle_class])\n",
    "print('Majority class=', negative_class, ':', target_count[negative_class])\n",
    "\n",
    "values = {'Original': [target_count[positive_class], target_count[negative_class]]}"
   ]
  },
  {
   "cell_type": "markdown",
   "id": "11ee1d6c",
   "metadata": {},
   "source": [
    "## Under & Over Sampling\n",
    "\n",
    "Consideram-se a classe em maioria e minoria. Quando fazemos oversampling, duplicamos dados nas classes em minoria, até ambas terem o mesmo número de pontos que a classe em maioria.\n",
    "Quando aplicamos undersampling, retiramos dados as classes em maioria, até terem a mesma dimensão que a classe em minoria."
   ]
  },
  {
   "cell_type": "code",
   "execution_count": 8,
   "id": "a55ffa98",
   "metadata": {},
   "outputs": [],
   "source": [
    "df_positives = original[original[class_var] == positive_class]\n",
    "df_middle    = original[original[class_var] == middle_class]\n",
    "df_negatives = original[original[class_var] == negative_class]"
   ]
  },
  {
   "cell_type": "code",
   "execution_count": 10,
   "id": "ee2218a4",
   "metadata": {},
   "outputs": [
    {
     "name": "stdout",
     "output_type": "stream",
     "text": [
      "Minority class= 2 : 11357\n",
      "Minority class= 1 : 11357\n",
      "Majority class= 0 : 11357\n"
     ]
    }
   ],
   "source": [
    "# UNDERSAMPLING\n",
    "\n",
    "df_neg_sample = DataFrame(df_negatives.sample(len(df_positives)))\n",
    "df_mid_sample = DataFrame(df_middle.sample(len(df_positives)))\n",
    "df_under = concat([df_positives, df_mid_sample, df_neg_sample], axis=0)\n",
    "df_under.to_csv(f'under_sampling.csv', index=False)\n",
    "\n",
    "values['UnderSample'] = [len(df_positives), len(df_mid_sample), len(df_neg_sample)]\n",
    "\n",
    "print('Minority class=', positive_class, ':', len(df_positives))\n",
    "print('Minority class=', middle_class, ':', len(df_mid_sample))\n",
    "print('Majority class=', negative_class, ':', len(df_neg_sample))"
   ]
  },
  {
   "cell_type": "code",
   "execution_count": 71,
   "id": "e898942e",
   "metadata": {},
   "outputs": [
    {
     "name": "stdout",
     "output_type": "stream",
     "text": [
      "Minority class= 2 : 54864\n",
      "Minority class= 2 : 54864\n",
      "Majority class= 0 : 54864\n"
     ]
    }
   ],
   "source": [
    "# OVERSAMPLING\n",
    "\n",
    "df_pos_sample = DataFrame(df_positives.sample(len(df_negatives), replace=True))\n",
    "df_mid_sample = DataFrame(df_middle.sample(len(df_negatives), replace=True))\n",
    "df_over = concat([df_pos_sample, df_mid_sample, df_negatives], axis=0)\n",
    "df_over.to_csv(f'over_sampling.csv', index=False)\n",
    "\n",
    "values['OverSample'] = [len(df_pos_sample), len(df_mid_sample), len(df_negatives)]\n",
    "\n",
    "print('Minority class=', positive_class, ':', len(df_pos_sample))\n",
    "print('Minority class=', middle_class, ':', len(df_mid_sample))\n",
    "print('Majority class=', negative_class, ':', len(df_negatives))"
   ]
  },
  {
   "cell_type": "markdown",
   "id": "93e808b4",
   "metadata": {},
   "source": [
    "## SMOTE"
   ]
  },
  {
   "cell_type": "code",
   "execution_count": 57,
   "id": "36ce2d70",
   "metadata": {},
   "outputs": [],
   "source": [
    "original=data.copy()"
   ]
  },
  {
   "cell_type": "code",
   "execution_count": 69,
   "id": "e700072b",
   "metadata": {},
   "outputs": [
    {
     "name": "stdout",
     "output_type": "stream",
     "text": [
      "Minority class= 2 : 54864\n",
      "Minority class= 1 : 54864\n",
      "Majority class= 0 : 54864\n"
     ]
    }
   ],
   "source": [
    "smote = SMOTE(sampling_strategy='auto', random_state=RANDOM_STATE)\n",
    "y = original.pop(class_var).values\n",
    "X = original.values\n",
    "smote_X, smote_y = smote.fit_resample(X, y)\n",
    "df_smote = concat([DataFrame(smote_X), DataFrame(smote_y)], axis=1)\n",
    "df_smote.columns = list(original.columns) + [class_var]\n",
    "df_smote.to_csv(f'smote.csv', index=False)\n",
    "\n",
    "smote_target_count = Series(smote_y).value_counts()\n",
    "values['SMOTE'] = [smote_target_count[positive_class], smote_target_count[negative_class]]\n",
    "print('Minority class=', positive_class, ':', smote_target_count[positive_class])\n",
    "print('Minority class=', middle_class  , ':', smote_target_count[middle_class])\n",
    "print('Majority class=', negative_class, ':', smote_target_count[negative_class])"
   ]
  }
 ],
 "metadata": {
  "kernelspec": {
   "display_name": "Python 3 (ipykernel)",
   "language": "python",
   "name": "python3"
  },
  "language_info": {
   "codemirror_mode": {
    "name": "ipython",
    "version": 3
   },
   "file_extension": ".py",
   "mimetype": "text/x-python",
   "name": "python",
   "nbconvert_exporter": "python",
   "pygments_lexer": "ipython3",
   "version": "3.10.8"
  }
 },
 "nbformat": 4,
 "nbformat_minor": 5
}
