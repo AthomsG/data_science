{
 "cells": [
  {
   "cell_type": "code",
   "execution_count": null,
   "id": "be0977b0",
   "metadata": {},
   "outputs": [],
   "source": [
    "%reset -f \n",
    "import pandas as pd\n",
    "import matplotlib.pyplot as plt"
   ]
  },
  {
   "cell_type": "code",
   "execution_count": null,
   "id": "0315ddbb",
   "metadata": {},
   "outputs": [],
   "source": [
    "datasets = ['datasets/drought.csv', 'datasets/diabetic_data.csv']"
   ]
  },
  {
   "cell_type": "markdown",
   "metadata": {},
   "source": [
    "* ## Data Sparsity"
   ]
  },
  {
   "cell_type": "markdown",
   "metadata": {},
   "source": [
    "## -----------------------------------Diabetic-----------------------------------"
   ]
  },
  {
   "cell_type": "code",
   "execution_count": null,
   "metadata": {},
   "outputs": [],
   "source": [
    "filename = datasets[1]\n",
    "data = pd.read_csv(filename, na_values='?')"
   ]
  },
  {
   "cell_type": "markdown",
   "metadata": {},
   "source": [
    "## Numeric"
   ]
  },
  {
   "cell_type": "code",
   "execution_count": null,
   "metadata": {},
   "outputs": [],
   "source": [
    "from pandas import read_csv\n",
    "from pandas.plotting import register_matplotlib_converters\n",
    "from matplotlib.pyplot import subplots, savefig, show\n",
    "from ds_charts import get_variable_types, HEIGHT\n",
    "from config import my_palette\n",
    "\n",
    "register_matplotlib_converters()\n",
    "\n",
    "numeric_vars = get_variable_types(data)['Numeric']\n",
    "if [] == numeric_vars:\n",
    "    raise ValueError('There are no numeric variables.')\n",
    "\n",
    "rows, cols = len(numeric_vars)-1, len(numeric_vars)-1\n",
    "fig, axs = subplots(rows, cols, figsize=(cols*HEIGHT, rows*HEIGHT), squeeze=False)\n",
    "for i in range(len(numeric_vars)):\n",
    "    var1 = numeric_vars[i]\n",
    "    for j in range(i+1, len(numeric_vars)):\n",
    "        var2 = numeric_vars[j]\n",
    "        axs[i, j-1].set_title(\"%s x %s\"%(var1,var2))\n",
    "        axs[i, j-1].set_xlabel(var1)\n",
    "        axs[i, j-1].set_ylabel(var2)\n",
    "        axs[i, j-1].scatter(data[var1], data[var2], color = my_palette['dark orange'])\n",
    "#savefig(f'images/sparsity_study_numeric.png')\n",
    "show()"
   ]
  },
  {
   "cell_type": "markdown",
   "metadata": {},
   "source": [
    "## Symbolic"
   ]
  },
  {
   "cell_type": "code",
   "execution_count": null,
   "metadata": {},
   "outputs": [],
   "source": [
    "from matplotlib.pyplot import savefig, show, subplots\n",
    "from ds_charts import HEIGHT, get_variable_types\n",
    "from config import my_palette\n",
    "\n",
    "data = pd.read_csv(filename)\n",
    "\n",
    "symbolic_vars = get_variable_types(data)['Symbolic']\n",
    "if [] == symbolic_vars:\n",
    "    raise ValueError('There are no symbolic variables.')\n",
    "\n",
    "l = len(symbolic_vars)\n",
    "\n",
    "rows, cols = l-1, l-1\n",
    "fig, axs = subplots(rows, cols, figsize=(cols*HEIGHT, rows*HEIGHT), squeeze=False)\n",
    "for i in range(l):\n",
    "    var1 = symbolic_vars[i]\n",
    "    for j in range(i+1, l):\n",
    "        var2 = symbolic_vars[j]\n",
    "        axs[i, j-1].set_title(\"%s x %s\"%(var1,var2))\n",
    "        axs[i, j-1].set_xlabel(var1)\n",
    "        axs[i, j-1].set_ylabel(var2)\n",
    "        axs[i, j-1].scatter(data[var1], data[var2], color = my_palette['green'])\n",
    "#savefig('images/sparsity_study_symbolic.png')\n",
    "show()"
   ]
  },
  {
   "cell_type": "markdown",
   "metadata": {},
   "source": [
    "## Binary"
   ]
  },
  {
   "cell_type": "code",
   "execution_count": null,
   "metadata": {},
   "outputs": [],
   "source": [
    "from matplotlib.pyplot import savefig, show, subplots\n",
    "from ds_charts import HEIGHT, get_variable_types\n",
    "from config import my_palette\n",
    "\n",
    "data = pd.read_csv(filename)\n",
    "\n",
    "symbolic_vars = get_variable_types(data)['Binary']\n",
    "if [] == symbolic_vars:\n",
    "    raise ValueError('There are no symbolic variables.')\n",
    "\n",
    "l = len(symbolic_vars)\n",
    "\n",
    "rows, cols = l-1, l-1\n",
    "fig, axs = subplots(rows, cols, figsize=(cols*HEIGHT, rows*HEIGHT), squeeze=False)\n",
    "for i in range(l):\n",
    "    var1 = symbolic_vars[i]\n",
    "    for j in range(i+1, l):\n",
    "        var2 = symbolic_vars[j]\n",
    "        axs[i, j-1].set_title(\"%s x %s\"%(var1,var2))\n",
    "        axs[i, j-1].set_xlabel(var1)\n",
    "        axs[i, j-1].set_ylabel(var2)\n",
    "        axs[i, j-1].scatter(data[var1], data[var2], color = my_palette['dark blue'])\n",
    "#savefig('images/sparsity_study_symbolic.png')\n",
    "show()"
   ]
  },
  {
   "cell_type": "markdown",
   "metadata": {},
   "source": [
    "## Numeric + Binary"
   ]
  },
  {
   "cell_type": "code",
   "execution_count": null,
   "metadata": {},
   "outputs": [],
   "source": [
    "from pandas import read_csv\n",
    "from pandas.plotting import register_matplotlib_converters\n",
    "from matplotlib.pyplot import subplots, savefig, show\n",
    "from ds_charts import get_variable_types, HEIGHT\n",
    "from config import my_palette\n",
    "\n",
    "register_matplotlib_converters()\n",
    "\n",
    "numeric_vars = get_variable_types(data)['Numeric']\n",
    "binary_vars = get_variable_types(data)['Binary']\n",
    "vars = numeric_vars+binary_vars\n",
    "if [] == vars:\n",
    "    raise ValueError('There are no numeric variables.')\n",
    "\n",
    "rows, cols = len(vars)-1, len(vars)-1\n",
    "fig, axs = subplots(rows, cols, figsize=(cols*HEIGHT, rows*HEIGHT), squeeze=False)\n",
    "for i in range(len(vars)):\n",
    "    var1 = vars[i]\n",
    "    for j in range(i+1, len(vars)):\n",
    "        var2 = vars[j]\n",
    "        axs[i, j-1].set_title(\"%s x %s\"%(var1,var2))\n",
    "        axs[i, j-1].set_xlabel(var1)\n",
    "        axs[i, j-1].set_ylabel(var2)\n",
    "        axs[i, j-1].scatter(data[var1], data[var2], color = my_palette['yellow'])\n",
    "#savefig(f'images/sparsity_study_numeric.png')\n",
    "show()"
   ]
  },
  {
   "cell_type": "markdown",
   "metadata": {},
   "source": [
    "## Studying correlation"
   ]
  },
  {
   "cell_type": "code",
   "execution_count": null,
   "metadata": {},
   "outputs": [],
   "source": [
    "#%pip install seaborn\n",
    "from matplotlib.pyplot import figure, savefig, show, title\n",
    "from seaborn import heatmap\n",
    "\n",
    "corr_mtx = abs(data.corr(numeric_only=True))\n",
    "#print(corr_mtx)\n",
    "fig = figure(figsize=[13, 13])\n",
    "\n",
    "heatmap(abs(corr_mtx), xticklabels=corr_mtx.columns, yticklabels=corr_mtx.columns, annot=True, cmap='YlGnBu')\n",
    "title('Correlation analysis')\n",
    "#savefig(f'images/correlation_analysis.png')\n",
    "show()"
   ]
  },
  {
   "cell_type": "markdown",
   "metadata": {},
   "source": [
    "## -----------------------------------Climatic-----------------------------------"
   ]
  },
  {
   "cell_type": "code",
   "execution_count": null,
   "metadata": {},
   "outputs": [],
   "source": [
    "filename = datasets[0]\n",
    "data = pd.read_csv(filename, na_values='?')"
   ]
  },
  {
   "cell_type": "markdown",
   "metadata": {},
   "source": [
    "## Numeric"
   ]
  },
  {
   "cell_type": "code",
   "execution_count": null,
   "metadata": {},
   "outputs": [],
   "source": [
    "from pandas import read_csv\n",
    "from pandas.plotting import register_matplotlib_converters\n",
    "from matplotlib.pyplot import subplots, savefig, show\n",
    "from ds_charts import get_variable_types, HEIGHT\n",
    "from config import my_palette\n",
    "\n",
    "register_matplotlib_converters()\n",
    "\n",
    "numeric_vars = get_variable_types(data)['Numeric']\n",
    "if [] == numeric_vars:\n",
    "    raise ValueError('There are no numeric variables.')\n",
    "\n",
    "rows, cols = len(numeric_vars)-1, len(numeric_vars)-1\n",
    "fig, axs = subplots(rows, cols, figsize=(cols*HEIGHT, rows*HEIGHT), squeeze=False)\n",
    "for i in range(len(numeric_vars)):\n",
    "    var1 = numeric_vars[i]\n",
    "    for j in range(i+1, len(numeric_vars)):\n",
    "        var2 = numeric_vars[j]\n",
    "        axs[i, j-1].set_title(\"%s x %s\"%(var1,var2))\n",
    "        axs[i, j-1].set_xlabel(var1)\n",
    "        axs[i, j-1].set_ylabel(var2)\n",
    "        axs[i, j-1].scatter(data[var1], data[var2], color = my_palette['dark orange'])\n",
    "#savefig(f'images/sparsity_study_numeric.png')\n",
    "show()"
   ]
  },
  {
   "cell_type": "markdown",
   "metadata": {},
   "source": [
    "## Symbolic"
   ]
  },
  {
   "cell_type": "markdown",
   "metadata": {},
   "source": [
    "### Apenas uma variável"
   ]
  },
  {
   "cell_type": "markdown",
   "metadata": {},
   "source": [
    "## Binary"
   ]
  },
  {
   "cell_type": "code",
   "execution_count": null,
   "metadata": {},
   "outputs": [],
   "source": [
    "from matplotlib.pyplot import savefig, show, subplots\n",
    "from ds_charts import HEIGHT, get_variable_types\n",
    "from config import my_palette\n",
    "\n",
    "data = pd.read_csv(filename)\n",
    "\n",
    "symbolic_vars = get_variable_types(data)['Binary']\n",
    "if [] == symbolic_vars:\n",
    "    raise ValueError('There are no symbolic variables.')\n",
    "\n",
    "l = len(symbolic_vars)\n",
    "\n",
    "rows, cols = l-1, l-1\n",
    "fig, axs = subplots(rows, cols, figsize=(cols*HEIGHT, rows*HEIGHT), squeeze=False)\n",
    "for i in range(l):\n",
    "    var1 = symbolic_vars[i]\n",
    "    for j in range(i+1, l):\n",
    "        var2 = symbolic_vars[j]\n",
    "        axs[i, j-1].set_title(\"%s x %s\"%(var1,var2))\n",
    "        axs[i, j-1].set_xlabel(var1)\n",
    "        axs[i, j-1].set_ylabel(var2)\n",
    "        axs[i, j-1].scatter(data[var1], data[var2], color = my_palette['dark blue'])\n",
    "#savefig('images/sparsity_study_symbolic.png')\n",
    "show()"
   ]
  },
  {
   "cell_type": "markdown",
   "metadata": {},
   "source": [
    "## Numeric + Binary"
   ]
  },
  {
   "cell_type": "code",
   "execution_count": null,
   "metadata": {},
   "outputs": [],
   "source": [
    "from pandas import read_csv\n",
    "from pandas.plotting import register_matplotlib_converters\n",
    "from matplotlib.pyplot import subplots, savefig, show\n",
    "from ds_charts import get_variable_types, HEIGHT\n",
    "from config import my_palette\n",
    "\n",
    "register_matplotlib_converters()\n",
    "\n",
    "numeric_vars = get_variable_types(data)['Numeric']\n",
    "binary_vars = get_variable_types(data)['Binary']\n",
    "vars = numeric_vars+binary_vars\n",
    "if [] == vars:\n",
    "    raise ValueError('There are no numeric variables.')\n",
    "\n",
    "rows, cols = len(vars)-1, len(vars)-1\n",
    "fig, axs = subplots(rows, cols, figsize=(cols*HEIGHT, rows*HEIGHT), squeeze=False)\n",
    "for i in range(len(vars)):\n",
    "    var1 = vars[i]\n",
    "    for j in range(i+1, len(vars)):\n",
    "        var2 = vars[j]\n",
    "        axs[i, j-1].set_title(\"%s x %s\"%(var1,var2))\n",
    "        axs[i, j-1].set_xlabel(var1)\n",
    "        axs[i, j-1].set_ylabel(var2)\n",
    "        axs[i, j-1].scatter(data[var1], data[var2], color = my_palette['yellow'])\n",
    "#savefig(f'images/sparsity_study_numeric.png')\n",
    "show()"
   ]
  },
  {
   "cell_type": "markdown",
   "metadata": {},
   "source": [
    "## Studying correlation"
   ]
  },
  {
   "cell_type": "code",
   "execution_count": null,
   "metadata": {},
   "outputs": [],
   "source": [
    "#%pip install seaborn\n",
    "from matplotlib.pyplot import figure, savefig, show, title\n",
    "from seaborn import heatmap\n",
    "\n",
    "corr_mtx = abs(data.corr(numeric_only=True))\n",
    "#print(corr_mtx)\n",
    "fig = figure(figsize=[51, 51])\n",
    "\n",
    "heatmap(abs(corr_mtx), xticklabels=corr_mtx.columns, yticklabels=corr_mtx.columns, annot=True, cmap='YlGnBu')\n",
    "title('Correlation analysis')\n",
    "#savefig(f'images/correlation_analysis.png')\n",
    "show()"
   ]
  }
 ],
 "metadata": {
  "interpreter": {
   "hash": "397704579725e15f5c7cb49fe5f0341eb7531c82d19f2c29d197e8b64ab5776b"
  },
  "kernelspec": {
   "display_name": "Python 3.9.12 64-bit",
   "name": "python3"
  },
  "language_info": {
   "codemirror_mode": {
    "name": "ipython",
    "version": 3
   },
   "file_extension": ".py",
   "mimetype": "text/x-python",
   "name": "python",
   "nbconvert_exporter": "python",
   "pygments_lexer": "ipython3",
   "version": "3.9.12"
  }
 },
 "nbformat": 4,
 "nbformat_minor": 5
}
